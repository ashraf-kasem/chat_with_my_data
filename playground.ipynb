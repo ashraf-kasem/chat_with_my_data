{
 "cells": [
  {
   "cell_type": "code",
   "execution_count": null,
   "id": "bbfb6655-0426-4fb7-975d-5b3bdbfb4acb",
   "metadata": {},
   "outputs": [],
   "source": []
  }
 ],
 "metadata": {
  "kernelspec": {
   "display_name": "",
   "name": ""
  },
  "language_info": {
   "name": ""
  }
 },
 "nbformat": 4,
 "nbformat_minor": 5
}
